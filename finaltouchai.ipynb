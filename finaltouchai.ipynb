{
  "nbformat": 4,
  "nbformat_minor": 0,
  "metadata": {
    "colab": {
      "name": "finaltouchai.ipynb",
      "provenance": []
    },
    "kernelspec": {
      "name": "python3",
      "display_name": "Python 3"
    }
  },
  "cells": [
    {
      "cell_type": "markdown",
      "metadata": {
        "id": "aVS7VEwIO8Ed",
        "colab_type": "text"
      },
      "source": [
        "# **This program predicts closing price of stocks.**"
      ]
    },
    {
      "cell_type": "markdown",
      "metadata": {
        "id": "eAfbVjj4TMvv",
        "colab_type": "text"
      },
      "source": [
        "# **This is the program for prediction the closing price for heromotocorp**"
      ]
    },
    {
      "cell_type": "markdown",
      "metadata": {
        "id": "moPM-fX4POBz",
        "colab_type": "text"
      },
      "source": [
        "**Supervised Learning,\n",
        "Regression task, Batch learning**\n"
      ]
    },
    {
      "cell_type": "code",
      "metadata": {
        "id": "v2p1zfroMvQc",
        "colab_type": "code",
        "colab": {
          "base_uri": "https://localhost:8080/",
          "height": 248
        },
        "outputId": "5095cee5-6a3f-4bcc-9379-76c20732017d"
      },
      "source": [
        "!pip install quandl"
      ],
      "execution_count": 1,
      "outputs": [
        {
          "output_type": "stream",
          "text": [
            "Requirement already satisfied: quandl in /usr/local/lib/python3.6/dist-packages (3.5.0)\n",
            "Requirement already satisfied: numpy>=1.8 in /usr/local/lib/python3.6/dist-packages (from quandl) (1.18.2)\n",
            "Requirement already satisfied: requests>=2.7.0 in /usr/local/lib/python3.6/dist-packages (from quandl) (2.21.0)\n",
            "Requirement already satisfied: more-itertools in /usr/local/lib/python3.6/dist-packages (from quandl) (8.2.0)\n",
            "Requirement already satisfied: six in /usr/local/lib/python3.6/dist-packages (from quandl) (1.12.0)\n",
            "Requirement already satisfied: inflection>=0.3.1 in /usr/local/lib/python3.6/dist-packages (from quandl) (0.3.1)\n",
            "Requirement already satisfied: python-dateutil in /usr/local/lib/python3.6/dist-packages (from quandl) (2.8.1)\n",
            "Requirement already satisfied: pandas>=0.14 in /usr/local/lib/python3.6/dist-packages (from quandl) (1.0.3)\n",
            "Requirement already satisfied: certifi>=2017.4.17 in /usr/local/lib/python3.6/dist-packages (from requests>=2.7.0->quandl) (2019.11.28)\n",
            "Requirement already satisfied: chardet<3.1.0,>=3.0.2 in /usr/local/lib/python3.6/dist-packages (from requests>=2.7.0->quandl) (3.0.4)\n",
            "Requirement already satisfied: urllib3<1.25,>=1.21.1 in /usr/local/lib/python3.6/dist-packages (from requests>=2.7.0->quandl) (1.24.3)\n",
            "Requirement already satisfied: idna<2.9,>=2.5 in /usr/local/lib/python3.6/dist-packages (from requests>=2.7.0->quandl) (2.8)\n",
            "Requirement already satisfied: pytz>=2017.2 in /usr/local/lib/python3.6/dist-packages (from pandas>=0.14->quandl) (2018.9)\n"
          ],
          "name": "stdout"
        }
      ]
    },
    {
      "cell_type": "code",
      "metadata": {
        "id": "k9YOLi60OMa3",
        "colab_type": "code",
        "colab": {}
      },
      "source": [
        "import math\n",
        "import quandl\n",
        "import numpy as np\n",
        "import pandas as pd\n",
        "import matplotlib.pyplot as plt\n",
        "plt.style.use('fivethirtyeight')"
      ],
      "execution_count": 0,
      "outputs": []
    },
    {
      "cell_type": "code",
      "metadata": {
        "id": "WZ5emZ0NN1kA",
        "colab_type": "code",
        "colab": {
          "base_uri": "https://localhost:8080/",
          "height": 337
        },
        "outputId": "6cd0edd5-5e3c-4574-d119-9978eb3a9437"
      },
      "source": [
        "dataframe=quandl.get(\"BSE/BOM500182\", authtoken=\"K96houAiHzzdXMREh5EZ\")\n",
        "\n",
        "#for further usage we also have given link for asian paints stock you could also check this :\n",
        "\n",
        "#dataframe=quandl.get(\"BSE/BOM500820\", authtoken=\"K96houAiHzzdXMREh5EZ\") -- this is for asian paints\n",
        "print(dataframe.head())\n",
        "print(dataframe.tail())"
      ],
      "execution_count": 3,
      "outputs": [
        {
          "output_type": "stream",
          "text": [
            "             Open   High  ...  Spread H-L  Spread C-O\n",
            "Date                      ...                        \n",
            "1992-03-02  190.0  210.0  ...        30.0        20.0\n",
            "1992-03-03  205.0  210.0  ...        15.0        -5.0\n",
            "1992-03-09  210.0  225.0  ...        15.0        15.0\n",
            "1992-03-10  215.0  230.0  ...        20.0         5.0\n",
            "1992-03-11  205.0  220.0  ...        15.0        10.0\n",
            "\n",
            "[5 rows x 12 columns]\n",
            "              Open     High  ...  Spread H-L  Spread C-O\n",
            "Date                         ...                        \n",
            "2020-03-25  1618.0  1682.95  ...      156.10       52.15\n",
            "2020-03-26  1690.0  1836.00  ...      189.85      115.30\n",
            "2020-03-27  1810.0  1836.45  ...      181.45     -149.85\n",
            "2020-03-30  1655.0  1655.00  ...      113.55     -103.20\n",
            "2020-03-31  1600.0  1633.45  ...       69.45       -5.80\n",
            "\n",
            "[5 rows x 12 columns]\n"
          ],
          "name": "stdout"
        }
      ]
    },
    {
      "cell_type": "code",
      "metadata": {
        "id": "iAVZH8r5OVWI",
        "colab_type": "code",
        "colab": {
          "base_uri": "https://localhost:8080/",
          "height": 35
        },
        "outputId": "620c6a47-110b-4fb6-b72d-ebd318e8a7c2"
      },
      "source": [
        "print('No of rows, No of columns are:',end=\"\")\n",
        "print(dataframe.shape)"
      ],
      "execution_count": 4,
      "outputs": [
        {
          "output_type": "stream",
          "text": [
            "No of rows, No of columns are:(5992, 12)\n"
          ],
          "name": "stdout"
        }
      ]
    },
    {
      "cell_type": "code",
      "metadata": {
        "id": "XNIM8nAdOlVt",
        "colab_type": "code",
        "colab": {
          "base_uri": "https://localhost:8080/",
          "height": 248
        },
        "outputId": "e2fefa52-9031-4155-a18a-69a1917e7840"
      },
      "source": [
        "print(dataframe.dtypes)\n",
        "#these are my independent variables"
      ],
      "execution_count": 5,
      "outputs": [
        {
          "output_type": "stream",
          "text": [
            "Open                         float64\n",
            "High                         float64\n",
            "Low                          float64\n",
            "Close                        float64\n",
            "WAP                          float64\n",
            "No. of Shares                float64\n",
            "No. of Trades                float64\n",
            "Total Turnover               float64\n",
            "Deliverable Quantity         float64\n",
            "% Deli. Qty to Traded Qty    float64\n",
            "Spread H-L                   float64\n",
            "Spread C-O                   float64\n",
            "dtype: object\n"
          ],
          "name": "stdout"
        }
      ]
    },
    {
      "cell_type": "code",
      "metadata": {
        "id": "uIQ2YjjBRJaY",
        "colab_type": "code",
        "colab": {
          "base_uri": "https://localhost:8080/",
          "height": 355
        },
        "outputId": "4bf6e638-ff10-458c-c496-03b87ec3af9d"
      },
      "source": [
        "#complete information of my dataset is:\n",
        "dataframe.info()"
      ],
      "execution_count": 6,
      "outputs": [
        {
          "output_type": "stream",
          "text": [
            "<class 'pandas.core.frame.DataFrame'>\n",
            "DatetimeIndex: 5992 entries, 1992-03-02 to 2020-03-31\n",
            "Data columns (total 12 columns):\n",
            " #   Column                     Non-Null Count  Dtype  \n",
            "---  ------                     --------------  -----  \n",
            " 0   Open                       5992 non-null   float64\n",
            " 1   High                       5992 non-null   float64\n",
            " 2   Low                        5992 non-null   float64\n",
            " 3   Close                      5992 non-null   float64\n",
            " 4   WAP                        5992 non-null   float64\n",
            " 5   No. of Shares              5992 non-null   float64\n",
            " 6   No. of Trades              5992 non-null   float64\n",
            " 7   Total Turnover             5992 non-null   float64\n",
            " 8   Deliverable Quantity       4500 non-null   float64\n",
            " 9   % Deli. Qty to Traded Qty  4500 non-null   float64\n",
            " 10  Spread H-L                 5992 non-null   float64\n",
            " 11  Spread C-O                 5992 non-null   float64\n",
            "dtypes: float64(12)\n",
            "memory usage: 608.6 KB\n"
          ],
          "name": "stdout"
        }
      ]
    },
    {
      "cell_type": "code",
      "metadata": {
        "id": "S-CLeSRCSDBJ",
        "colab_type": "code",
        "colab": {
          "base_uri": "https://localhost:8080/",
          "height": 282
        },
        "outputId": "68dc0e06-be8e-4dcb-cfb5-1c2e72cd32c6"
      },
      "source": [
        "dataframe.describe()"
      ],
      "execution_count": 7,
      "outputs": [
        {
          "output_type": "execute_result",
          "data": {
            "text/html": [
              "<div>\n",
              "<style scoped>\n",
              "    .dataframe tbody tr th:only-of-type {\n",
              "        vertical-align: middle;\n",
              "    }\n",
              "\n",
              "    .dataframe tbody tr th {\n",
              "        vertical-align: top;\n",
              "    }\n",
              "\n",
              "    .dataframe thead th {\n",
              "        text-align: right;\n",
              "    }\n",
              "</style>\n",
              "<table border=\"1\" class=\"dataframe\">\n",
              "  <thead>\n",
              "    <tr style=\"text-align: right;\">\n",
              "      <th></th>\n",
              "      <th>Open</th>\n",
              "      <th>High</th>\n",
              "      <th>Low</th>\n",
              "      <th>Close</th>\n",
              "      <th>WAP</th>\n",
              "      <th>No. of Shares</th>\n",
              "      <th>No. of Trades</th>\n",
              "      <th>Total Turnover</th>\n",
              "      <th>Deliverable Quantity</th>\n",
              "      <th>% Deli. Qty to Traded Qty</th>\n",
              "      <th>Spread H-L</th>\n",
              "      <th>Spread C-O</th>\n",
              "    </tr>\n",
              "  </thead>\n",
              "  <tbody>\n",
              "    <tr>\n",
              "      <th>count</th>\n",
              "      <td>5992.000000</td>\n",
              "      <td>5992.000000</td>\n",
              "      <td>5992.000000</td>\n",
              "      <td>5992.000000</td>\n",
              "      <td>5992.000000</td>\n",
              "      <td>5.992000e+03</td>\n",
              "      <td>5992.000000</td>\n",
              "      <td>5.992000e+03</td>\n",
              "      <td>4.500000e+03</td>\n",
              "      <td>4500.000000</td>\n",
              "      <td>5992.000000</td>\n",
              "      <td>5992.000000</td>\n",
              "    </tr>\n",
              "    <tr>\n",
              "      <th>mean</th>\n",
              "      <td>1442.197447</td>\n",
              "      <td>1461.209671</td>\n",
              "      <td>1420.752762</td>\n",
              "      <td>1440.131392</td>\n",
              "      <td>1439.481266</td>\n",
              "      <td>7.791060e+04</td>\n",
              "      <td>1972.229473</td>\n",
              "      <td>7.691987e+07</td>\n",
              "      <td>4.354346e+04</td>\n",
              "      <td>37.578342</td>\n",
              "      <td>40.456909</td>\n",
              "      <td>-2.066055</td>\n",
              "    </tr>\n",
              "    <tr>\n",
              "      <th>std</th>\n",
              "      <td>1048.776788</td>\n",
              "      <td>1058.185616</td>\n",
              "      <td>1036.523176</td>\n",
              "      <td>1046.204353</td>\n",
              "      <td>1048.597546</td>\n",
              "      <td>1.376763e+05</td>\n",
              "      <td>2467.898531</td>\n",
              "      <td>1.906369e+08</td>\n",
              "      <td>9.691639e+04</td>\n",
              "      <td>19.797344</td>\n",
              "      <td>34.924114</td>\n",
              "      <td>32.136014</td>\n",
              "    </tr>\n",
              "    <tr>\n",
              "      <th>min</th>\n",
              "      <td>123.000000</td>\n",
              "      <td>123.950000</td>\n",
              "      <td>116.000000</td>\n",
              "      <td>116.800000</td>\n",
              "      <td>0.000000</td>\n",
              "      <td>0.000000e+00</td>\n",
              "      <td>0.000000</td>\n",
              "      <td>0.000000e+00</td>\n",
              "      <td>2.230000e+02</td>\n",
              "      <td>0.820000</td>\n",
              "      <td>0.000000</td>\n",
              "      <td>-405.400000</td>\n",
              "    </tr>\n",
              "    <tr>\n",
              "      <th>25%</th>\n",
              "      <td>577.000000</td>\n",
              "      <td>587.250000</td>\n",
              "      <td>569.375000</td>\n",
              "      <td>577.487500</td>\n",
              "      <td>576.786044</td>\n",
              "      <td>1.561900e+04</td>\n",
              "      <td>651.000000</td>\n",
              "      <td>2.096299e+07</td>\n",
              "      <td>5.250250e+03</td>\n",
              "      <td>22.610000</td>\n",
              "      <td>15.687500</td>\n",
              "      <td>-13.850000</td>\n",
              "    </tr>\n",
              "    <tr>\n",
              "      <th>50%</th>\n",
              "      <td>975.500000</td>\n",
              "      <td>990.000000</td>\n",
              "      <td>955.325000</td>\n",
              "      <td>974.875000</td>\n",
              "      <td>972.106846</td>\n",
              "      <td>3.297900e+04</td>\n",
              "      <td>1467.000000</td>\n",
              "      <td>4.542725e+07</td>\n",
              "      <td>1.239300e+04</td>\n",
              "      <td>33.100000</td>\n",
              "      <td>32.275000</td>\n",
              "      <td>-1.200000</td>\n",
              "    </tr>\n",
              "    <tr>\n",
              "      <th>75%</th>\n",
              "      <td>2138.250000</td>\n",
              "      <td>2170.850000</td>\n",
              "      <td>2110.937500</td>\n",
              "      <td>2141.000000</td>\n",
              "      <td>2144.843686</td>\n",
              "      <td>7.939875e+04</td>\n",
              "      <td>2529.000000</td>\n",
              "      <td>8.663111e+07</td>\n",
              "      <td>4.347775e+04</td>\n",
              "      <td>48.520000</td>\n",
              "      <td>55.000000</td>\n",
              "      <td>9.800000</td>\n",
              "    </tr>\n",
              "    <tr>\n",
              "      <th>max</th>\n",
              "      <td>4200.000000</td>\n",
              "      <td>4200.000000</td>\n",
              "      <td>3996.550000</td>\n",
              "      <td>4047.300000</td>\n",
              "      <td>4051.620000</td>\n",
              "      <td>3.085587e+06</td>\n",
              "      <td>80793.000000</td>\n",
              "      <td>8.138679e+09</td>\n",
              "      <td>2.427734e+06</td>\n",
              "      <td>100.000000</td>\n",
              "      <td>483.150000</td>\n",
              "      <td>346.750000</td>\n",
              "    </tr>\n",
              "  </tbody>\n",
              "</table>\n",
              "</div>"
            ],
            "text/plain": [
              "              Open         High  ...   Spread H-L   Spread C-O\n",
              "count  5992.000000  5992.000000  ...  5992.000000  5992.000000\n",
              "mean   1442.197447  1461.209671  ...    40.456909    -2.066055\n",
              "std    1048.776788  1058.185616  ...    34.924114    32.136014\n",
              "min     123.000000   123.950000  ...     0.000000  -405.400000\n",
              "25%     577.000000   587.250000  ...    15.687500   -13.850000\n",
              "50%     975.500000   990.000000  ...    32.275000    -1.200000\n",
              "75%    2138.250000  2170.850000  ...    55.000000     9.800000\n",
              "max    4200.000000  4200.000000  ...   483.150000   346.750000\n",
              "\n",
              "[8 rows x 12 columns]"
            ]
          },
          "metadata": {
            "tags": []
          },
          "execution_count": 7
        }
      ]
    },
    {
      "cell_type": "code",
      "metadata": {
        "id": "7njyr1wOSwha",
        "colab_type": "code",
        "colab": {
          "base_uri": "https://localhost:8080/",
          "height": 248
        },
        "outputId": "29dadb0b-5f1d-4687-bc02-647f862f7d7f"
      },
      "source": [
        "print(dataframe['Deliverable Quantity'])"
      ],
      "execution_count": 8,
      "outputs": [
        {
          "output_type": "stream",
          "text": [
            "Date\n",
            "1992-03-02        NaN\n",
            "1992-03-03        NaN\n",
            "1992-03-09        NaN\n",
            "1992-03-10        NaN\n",
            "1992-03-11        NaN\n",
            "               ...   \n",
            "2020-03-25     5885.0\n",
            "2020-03-26     6103.0\n",
            "2020-03-27    22738.0\n",
            "2020-03-30    10197.0\n",
            "2020-03-31     4934.0\n",
            "Name: Deliverable Quantity, Length: 5992, dtype: float64\n"
          ],
          "name": "stdout"
        }
      ]
    },
    {
      "cell_type": "code",
      "metadata": {
        "id": "_w3Xs9FYBd84",
        "colab_type": "code",
        "colab": {
          "base_uri": "https://localhost:8080/",
          "height": 35
        },
        "outputId": "76b158a5-bfb2-461d-aefd-358c8007c2eb"
      },
      "source": [
        "#dealing with null values in %  Deli. Qty to Traded Qty and Deliverable Quantity \n",
        "#1.remove data points which contain null\n",
        "aoption=dataframe.dropna(subset=[\"% Deli. Qty to Traded Qty\"],inplace=True)\n",
        "dataframe.shape"
      ],
      "execution_count": 9,
      "outputs": [
        {
          "output_type": "execute_result",
          "data": {
            "text/plain": [
              "(4500, 12)"
            ]
          },
          "metadata": {
            "tags": []
          },
          "execution_count": 9
        }
      ]
    },
    {
      "cell_type": "code",
      "metadata": {
        "id": "kSoAlC0tTgUk",
        "colab_type": "code",
        "colab": {}
      },
      "source": [
        "%matplotlib inline"
      ],
      "execution_count": 0,
      "outputs": []
    },
    {
      "cell_type": "code",
      "metadata": {
        "id": "8QDoJJKHTckL",
        "colab_type": "code",
        "colab": {
          "base_uri": "https://localhost:8080/",
          "height": 890
        },
        "outputId": "745ccf46-2485-4db2-f344-71adc202a3b3"
      },
      "source": [
        "dataframe.hist(bins=50,figsize=(20,15))\n",
        "plt.show()"
      ],
      "execution_count": 11,
      "outputs": [
        {
          "output_type": "display_data",
          "data": {
            "image/png": "[encoded data removed]",
            "text/plain": [
              "<Figure size 1440x1080 with 12 Axes>"
            ]
          },
          "metadata": {
            "tags": []
          }
        }
      ]
    },
    {
      "cell_type": "code",
      "metadata": {
        "id": "jqo6TXKJG7Ef",
        "colab_type": "code",
        "colab": {
          "base_uri": "https://localhost:8080/",
          "height": 573
        },
        "outputId": "5fb5cbdf-5522-4e9f-eec6-4171a52262be"
      },
      "source": [
        "#lets visualize our closing price\n",
        "\n",
        "plt.figure(figsize=(18,9))\n",
        "plt.title('Original Closing Price Data')\n",
        "plt.plot(dataframe['Close'])\n",
        "plt.xlabel('Date',fontsize=18)\n",
        "plt.ylabel('Price',fontsize=18)\n",
        "plt.show()"
      ],
      "execution_count": 12,
      "outputs": [
        {
          "output_type": "display_data",
          "data": {
            "image/png": "[encoded data removed]",
            "text/plain": [
              "<Figure size 1296x648 with 1 Axes>"
            ]
          },
          "metadata": {
            "tags": []
          }
        }
      ]
    },
    {
      "cell_type": "code",
      "metadata": {
        "id": "GLDfBcglIbZ5",
        "colab_type": "code",
        "colab": {
          "base_uri": "https://localhost:8080/",
          "height": 266
        },
        "outputId": "93438645-83bc-4555-a4dd-9c5ae962a771"
      },
      "source": [
        "dataframe=dataframe[['Close']]#getting the close price,,close is our independent variable\n",
        "print(dataframe.head())\n",
        "print(dataframe.tail())"
      ],
      "execution_count": 13,
      "outputs": [
        {
          "output_type": "stream",
          "text": [
            "             Close\n",
            "Date              \n",
            "2002-02-08  319.50\n",
            "2002-02-15  323.55\n",
            "2002-02-18  334.70\n",
            "2002-02-19  331.25\n",
            "2002-02-20  337.75\n",
            "              Close\n",
            "Date               \n",
            "2020-03-25  1670.15\n",
            "2020-03-26  1805.30\n",
            "2020-03-27  1660.15\n",
            "2020-03-30  1551.80\n",
            "2020-03-31  1594.20\n"
          ],
          "name": "stdout"
        }
      ]
    },
    {
      "cell_type": "code",
      "metadata": {
        "id": "VlE0sFf_JKa9",
        "colab_type": "code",
        "colab": {
          "base_uri": "https://localhost:8080/",
          "height": 35
        },
        "outputId": "10ef31b7-2a5e-40cd-ce2f-deb00b68f893"
      },
      "source": [
        "# give here the predicting variable for how many days u want to find\n",
        "n=int(input(\"enter here for how many days u want to predict : \"))\n",
        "forcasting=n\n"
      ],
      "execution_count": 21,
      "outputs": [
        {
          "output_type": "stream",
          "text": [
            "enter here for how many days u want to predict : 360\n"
          ],
          "name": "stdout"
        }
      ]
    },
    {
      "cell_type": "code",
      "metadata": {
        "id": "l2T33wk-JK05",
        "colab_type": "code",
        "colab": {
          "base_uri": "https://localhost:8080/",
          "height": 266
        },
        "outputId": "3931f8aa-3f79-4490-eb81-06a0b711476d"
      },
      "source": [
        "#creating another variable(prediction which will be used for predicting) it is dependent variable , in this we shifted n units up\n",
        "dataframe[\"Prediction\"]=dataframe[[\"Close\"]].shift(-forcasting) #write inplace of -1 where for the no of days u want to predict\n",
        "print(dataframe.head())\n",
        "print(dataframe.tail())"
      ],
      "execution_count": 22,
      "outputs": [
        {
          "output_type": "stream",
          "text": [
            "              Close  Prediction\n",
            "Date                           \n",
            "2018-10-11  2866.75     2467.80\n",
            "2016-04-25  2967.40     2734.20\n",
            "2012-10-05  1810.75     1541.90\n",
            "2004-07-20   436.00      804.65\n",
            "2010-12-07  1787.40      335.40\n",
            "              Close  Prediction\n",
            "Date                           \n",
            "2019-12-17  2302.95         NaN\n",
            "2003-12-31   448.85         NaN\n",
            "2014-07-14  2452.25         NaN\n",
            "2017-04-21  3204.90         NaN\n",
            "2005-07-20   615.00         NaN\n"
          ],
          "name": "stdout"
        }
      ]
    },
    {
      "cell_type": "code",
      "metadata": {
        "id": "0OWsIEdlJLBU",
        "colab_type": "code",
        "colab": {
          "base_uri": "https://localhost:8080/",
          "height": 141
        },
        "outputId": "86d5111d-eb4d-432c-d0d4-cf8d52f4c7fc"
      },
      "source": [
        "#now creating the independent dataset(X)\n",
        "#convert the dataframe into numpy array\n",
        "#as we want only independent variables so we are dropping prediction as it was dependent\n",
        "X=np.array(dataframe.drop(['Prediction'],1))\n",
        "#remove the last 'n' row i.e. forcasting value\n",
        "X=X[:-forcasting]#we removed the data which is to be forecast(predicted)\n",
        "print(X)#this is a list of list"
      ],
      "execution_count": 23,
      "outputs": [
        {
          "output_type": "stream",
          "text": [
            "[[2866.75]\n",
            " [2967.4 ]\n",
            " [1810.75]\n",
            " ...\n",
            " [ 581.2 ]\n",
            " [2893.3 ]\n",
            " [ 698.65]]\n"
          ],
          "name": "stdout"
        }
      ]
    },
    {
      "cell_type": "code",
      "metadata": {
        "id": "BkHtzuGdJLNe",
        "colab_type": "code",
        "colab": {
          "base_uri": "https://localhost:8080/",
          "height": 35
        },
        "outputId": "476b749d-bf8f-4024-8b46-0d791b79ba00"
      },
      "source": [
        "#now creating the dependent variable dataset which also contains null values(i.e. nan's)\n",
        "Y=np.array(dataframe['Prediction'])\n",
        "#in y also i am getting all values except last values which is to be predicted\n",
        "Y=Y[:-forcasting]\n",
        "print(Y)#this is a list # i think here we have started training our data with previous values"
      ],
      "execution_count": 24,
      "outputs": [
        {
          "output_type": "stream",
          "text": [
            "[2467.8  2734.2  1541.9  ... 2452.25 3204.9   615.  ]\n"
          ],
          "name": "stdout"
        }
      ]
    },
    {
      "cell_type": "code",
      "metadata": {
        "id": "3gqOWchEJLTC",
        "colab_type": "code",
        "colab": {
          "base_uri": "https://localhost:8080/",
          "height": 266
        },
        "outputId": "5b8ee986-6c54-484d-b347-73ed1d857d6d"
      },
      "source": [
        "#now as usual we are putting 80% data to training and 20% to testing\n",
        "#reference here is sklearn documentation\n",
        "x_train,x_test,y_train,y_test=train_test_split(X,Y,test_size=0.2)\n"
      ],
      "execution_count": 26,
      "outputs": [
        {
          "output_type": "stream",
          "text": [
            "[[ 228.6 ]\n",
            " [2441.25]\n",
            " [ 773.25]\n",
            " ...\n",
            " [2000.05]\n",
            " [2066.3 ]\n",
            " [ 646.4 ]]\n",
            "[[ 228.6 ]\n",
            " [2441.25]\n",
            " [ 773.25]\n",
            " ...\n",
            " [2000.05]\n",
            " [2066.3 ]\n",
            " [ 646.4 ]]\n"
          ],
          "name": "stdout"
        }
      ]
    },
    {
      "cell_type": "code",
      "metadata": {
        "id": "alFsC_RUJLWb",
        "colab_type": "code",
        "colab": {}
      },
      "source": [
        "#as it is a regression type of problem so \n",
        "#we are using support vector machine(regressor) to train our model \n",
        "svr_rbf= SVR(kernel='rbf',C=1e3,gamma=0.1)\n",
        "svr_rbf.fit(x_train,y_train) "
      ],
      "execution_count": 0,
      "outputs": []
    },
    {
      "cell_type": "code",
      "metadata": {
        "id": "rbjP5MsBJLcV",
        "colab_type": "code",
        "colab": {}
      },
      "source": [
        "#testing our model\n",
        "#the best possible score our model can give is 1.0\n",
        "#score returns the coefficient of determination R^2 of the prediction\n",
        "svm_confidence=svr_rbf.score(x_test,y_test)\n",
        "print(\"your score is :\",svm_confidence)\n",
        "#if ur score is near .9 means it is a great model"
      ],
      "execution_count": 0,
      "outputs": []
    },
    {
      "cell_type": "markdown",
      "metadata": {
        "id": "8q9-amHTVzpp",
        "colab_type": "text"
      },
      "source": [
        "# **It seems a great score, means we trained our model in right way**"
      ]
    },
    {
      "cell_type": "code",
      "metadata": {
        "id": "VUSFHFA0JLia",
        "colab_type": "code",
        "colab": {}
      },
      "source": [
        "#create and train the linear regression model\n",
        "classifierlinearregression  = LinearRegression()\n",
        "#training the model\n",
        "classifierlinearregression.fit(x_train,y_train)"
      ],
      "execution_count": 0,
      "outputs": []
    },
    {
      "cell_type": "code",
      "metadata": {
        "id": "RiKyczmUJLlw",
        "colab_type": "code",
        "colab": {}
      },
      "source": [
        "clr_confidence=classifierlinearregression.score(x_test,y_test)\n",
        "print(\"your score is :\",clr_confidence)"
      ],
      "execution_count": 0,
      "outputs": []
    },
    {
      "cell_type": "markdown",
      "metadata": {
        "id": "1yFG53TnWl4b",
        "colab_type": "text"
      },
      "source": [
        "# **It seems from here if we in this model linear regression is working more accurately.**"
      ]
    },
    {
      "cell_type": "code",
      "metadata": {
        "id": "ChEpPfFAJLsY",
        "colab_type": "code",
        "colab": {}
      },
      "source": [
        "#set x_forecast equal to the last forcasting rows of the  original data set from Close column\n",
        "x_forecast=np.array(dataframe.drop(['Prediction'],1))[-forcasting:]\n",
        "print(x_forecast) \n",
        "#this is the original data which contains only last values not in X"
      ],
      "execution_count": 0,
      "outputs": []
    },
    {
      "cell_type": "code",
      "metadata": {
        "id": "uELdc-tGJLx-",
        "colab_type": "code",
        "colab": {}
      },
      "source": [
        "import itertools\n",
        "\n",
        "merged = list(itertools.chain(*x_forecast))\n",
        "print(merged)\n",
        "#this is done for a simple list instead of list of list"
      ],
      "execution_count": 0,
      "outputs": []
    },
    {
      "cell_type": "code",
      "metadata": {
        "id": "frp16Yl_JL4g",
        "colab_type": "code",
        "colab": {}
      },
      "source": [
        "## now look at the prediction (for the days which we put in forcasting variables)\n",
        "#now we want to compare the last x_forecast that is our original to the predicted value by model\n",
        "#printing the predicted values for the same \n",
        "#using linear regression \n",
        "lr_prediction =classifierlinearregression .predict(x_forecast)\n",
        "print(lr_prediction)\n",
        "print(\"\")\n"
      ],
      "execution_count": 0,
      "outputs": []
    },
    {
      "cell_type": "code",
      "metadata": {
        "id": "9fMXLVMdJL9b",
        "colab_type": "code",
        "colab": {}
      },
      "source": [
        "#using support vector regressor\n",
        "svr_prediction =svr_rbf.predict(x_forecast)\n",
        "print(svr_prediction) "
      ],
      "execution_count": 0,
      "outputs": []
    },
    {
      "cell_type": "markdown",
      "metadata": {
        "colab_type": "text",
        "id": "faF6gcGZZcfj"
      },
      "source": [
        "***Future scope is using Correlation we could remove outliers and could come up with better model***"
      ]
    }
  ]
}