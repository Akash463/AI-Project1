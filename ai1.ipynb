{
  "nbformat": 4,
  "nbformat_minor": 0,
  "metadata": {
    "colab": {
      "name": "ai1.ipynb",
      "provenance": [],
      "collapsed_sections": [],
      "authorship_tag": "ABX9TyPnX4urtU2HdE5Cnkw6soW7",
      "include_colab_link": true
    },
    "kernelspec": {
      "name": "python3",
      "display_name": "Python 3"
    }
  },
  "cells": [
    {
      "cell_type": "markdown",
      "metadata": {
        "id": "view-in-github",
        "colab_type": "text"
      },
      "source": [
        "<a href=\"https://colab.research.google.com/github/Akash463/AI-Project1/blob/master/ai1.ipynb\" target=\"_parent\"><img src=\"https://colab.research.google.com/assets/colab-badge.svg\" alt=\"Open In Colab\"/></a>"
      ]
    },
    {
      "cell_type": "code",
      "metadata": {
        "id": "Jm-WEpbmQ13I",
        "colab_type": "code",
        "colab": {
          "base_uri": "https://localhost:8080/",
          "height": 248
        },
        "outputId": "a3dee56b-d952-4931-a7c5-08ec04685ffb"
      },
      "source": [
        "pip install quandl"
      ],
      "execution_count": 18,
      "outputs": [
        {
          "output_type": "stream",
          "text": [
            "Requirement already satisfied: quandl in /usr/local/lib/python3.6/dist-packages (3.5.0)\n",
            "Requirement already satisfied: inflection>=0.3.1 in /usr/local/lib/python3.6/dist-packages (from quandl) (0.3.1)\n",
            "Requirement already satisfied: six in /usr/local/lib/python3.6/dist-packages (from quandl) (1.12.0)\n",
            "Requirement already satisfied: numpy>=1.8 in /usr/local/lib/python3.6/dist-packages (from quandl) (1.18.2)\n",
            "Requirement already satisfied: python-dateutil in /usr/local/lib/python3.6/dist-packages (from quandl) (2.8.1)\n",
            "Requirement already satisfied: requests>=2.7.0 in /usr/local/lib/python3.6/dist-packages (from quandl) (2.21.0)\n",
            "Requirement already satisfied: pandas>=0.14 in /usr/local/lib/python3.6/dist-packages (from quandl) (1.0.3)\n",
            "Requirement already satisfied: more-itertools in /usr/local/lib/python3.6/dist-packages (from quandl) (8.2.0)\n",
            "Requirement already satisfied: idna<2.9,>=2.5 in /usr/local/lib/python3.6/dist-packages (from requests>=2.7.0->quandl) (2.8)\n",
            "Requirement already satisfied: chardet<3.1.0,>=3.0.2 in /usr/local/lib/python3.6/dist-packages (from requests>=2.7.0->quandl) (3.0.4)\n",
            "Requirement already satisfied: urllib3<1.25,>=1.21.1 in /usr/local/lib/python3.6/dist-packages (from requests>=2.7.0->quandl) (1.24.3)\n",
            "Requirement already satisfied: certifi>=2017.4.17 in /usr/local/lib/python3.6/dist-packages (from requests>=2.7.0->quandl) (2019.11.28)\n",
            "Requirement already satisfied: pytz>=2017.2 in /usr/local/lib/python3.6/dist-packages (from pandas>=0.14->quandl) (2018.9)\n"
          ],
          "name": "stdout"
        }
      ]
    },
    {
      "cell_type": "code",
      "metadata": {
        "id": "jJsYyYTkPYVT",
        "colab_type": "code",
        "colab": {}
      },
      "source": [
        "#importing all required libraries\n",
        "import quandl\n",
        "import numpy as np\n",
        "from sklearn.linear_model import LinearRegression\n",
        "from sklearn.svm import SVR\n",
        "from sklearn.model_selection  import train_test_split\n",
        "import pandas as pd\n"
      ],
      "execution_count": 0,
      "outputs": []
    },
    {
      "cell_type": "code",
      "metadata": {
        "id": "QTKoalEMRBAV",
        "colab_type": "code",
        "colab": {
          "base_uri": "https://localhost:8080/",
          "height": 177
        },
        "outputId": "3fb79e56-e56c-45c5-f2bc-3336fa48d956"
      },
      "source": [
        "dataframe=quandl.get(\"BSE/BOM500182\", authtoken=\"K96houAiHzzdXMREh5EZ\")# using my quandl id i have extracted data from  this is the data for heromotocorp\n",
        "#quandl.get(\"BSE/BOM500820\", authtoken=\"K96houAiHzzdXMREh5EZ\") -- this is for asian paints\n",
        "print(dataframe.head())\n",
        "\n"
      ],
      "execution_count": 20,
      "outputs": [
        {
          "output_type": "stream",
          "text": [
            "             Open   High  ...  Spread H-L  Spread C-O\n",
            "Date                      ...                        \n",
            "1992-03-02  190.0  210.0  ...        30.0        20.0\n",
            "1992-03-03  205.0  210.0  ...        15.0        -5.0\n",
            "1992-03-09  210.0  225.0  ...        15.0        15.0\n",
            "1992-03-10  215.0  230.0  ...        20.0         5.0\n",
            "1992-03-11  205.0  220.0  ...        15.0        10.0\n",
            "\n",
            "[5 rows x 12 columns]\n"
          ],
          "name": "stdout"
        }
      ]
    },
    {
      "cell_type": "code",
      "metadata": {
        "id": "qmWF6w8CVDld",
        "colab_type": "code",
        "colab": {
          "base_uri": "https://localhost:8080/",
          "height": 248
        },
        "outputId": "1fc04cb9-1ed5-41b5-d899-17699f41ef71"
      },
      "source": [
        "print(dataframe.dtypes)"
      ],
      "execution_count": 21,
      "outputs": [
        {
          "output_type": "stream",
          "text": [
            "Open                         float64\n",
            "High                         float64\n",
            "Low                          float64\n",
            "Close                        float64\n",
            "WAP                          float64\n",
            "No. of Shares                float64\n",
            "No. of Trades                float64\n",
            "Total Turnover               float64\n",
            "Deliverable Quantity         float64\n",
            "% Deli. Qty to Traded Qty    float64\n",
            "Spread H-L                   float64\n",
            "Spread C-O                   float64\n",
            "dtype: object\n"
          ],
          "name": "stdout"
        }
      ]
    },
    {
      "cell_type": "code",
      "metadata": {
        "id": "fANYFTxdVHNN",
        "colab_type": "code",
        "colab": {}
      },
      "source": [
        ""
      ],
      "execution_count": 0,
      "outputs": []
    },
    {
      "cell_type": "code",
      "metadata": {
        "id": "vkf7IKqzUWPN",
        "colab_type": "code",
        "colab": {
          "base_uri": "https://localhost:8080/",
          "height": 266
        },
        "outputId": "08e9c037-5a03-4d3d-8ffe-1930231b6e19"
      },
      "source": [
        "dataframe=dataframe[['Close']]#getting the close price,,close is our independent variable\n",
        "print(dataframe.head())\n",
        "print(dataframe.tail())"
      ],
      "execution_count": 22,
      "outputs": [
        {
          "output_type": "stream",
          "text": [
            "            Close\n",
            "Date             \n",
            "1992-03-02  210.0\n",
            "1992-03-03  200.0\n",
            "1992-03-09  225.0\n",
            "1992-03-10  220.0\n",
            "1992-03-11  215.0\n",
            "              Close\n",
            "Date               \n",
            "2020-03-25  1670.15\n",
            "2020-03-26  1805.30\n",
            "2020-03-27  1660.15\n",
            "2020-03-30  1551.80\n",
            "2020-03-31  1594.20\n"
          ],
          "name": "stdout"
        }
      ]
    },
    {
      "cell_type": "code",
      "metadata": {
        "id": "DolGOrzxXbE9",
        "colab_type": "code",
        "colab": {
          "base_uri": "https://localhost:8080/",
          "height": 35
        },
        "outputId": "4fa79b88-980f-45ff-cdef-65c286a80132"
      },
      "source": [
        "# give here the predicting variable for how many days u want to find\n",
        "n=int(input(\"enter here for how many days u want to predict : \"))\n",
        "forcasting=n"
      ],
      "execution_count": 23,
      "outputs": [
        {
          "output_type": "stream",
          "text": [
            "enter here for how many days u want to predict100\n"
          ],
          "name": "stdout"
        }
      ]
    },
    {
      "cell_type": "code",
      "metadata": {
        "id": "8tf0WE2ufcwT",
        "colab_type": "code",
        "colab": {
          "base_uri": "https://localhost:8080/",
          "height": 266
        },
        "outputId": "3bba3e7f-9fad-4651-a206-dc419d814acd"
      },
      "source": [
        "#creating another variable(prediction which will be used for predicting) it is dependent variable , in this we shifted n units up\n",
        "dataframe[\"Prediction\"]=dataframe[[\"Close\"]].shift(-forcasting) #write inplace of -1 where for the no of days u want to predict\n",
        "print(dataframe.head())\n",
        "print(dataframe.tail())"
      ],
      "execution_count": 24,
      "outputs": [
        {
          "output_type": "stream",
          "text": [
            "            Close  Prediction\n",
            "Date                         \n",
            "1992-03-02  210.0      286.00\n",
            "1992-03-03  200.0      285.00\n",
            "1992-03-09  225.0      284.00\n",
            "1992-03-10  220.0      281.25\n",
            "1992-03-11  215.0      278.00\n",
            "              Close  Prediction\n",
            "Date                           \n",
            "2020-03-25  1670.15         NaN\n",
            "2020-03-26  1805.30         NaN\n",
            "2020-03-27  1660.15         NaN\n",
            "2020-03-30  1551.80         NaN\n",
            "2020-03-31  1594.20         NaN\n"
          ],
          "name": "stdout"
        }
      ]
    },
    {
      "cell_type": "code",
      "metadata": {
        "id": "SF0QjIgAnQH-",
        "colab_type": "code",
        "colab": {
          "base_uri": "https://localhost:8080/",
          "height": 141
        },
        "outputId": "2255559b-a385-412c-b183-ac367719ad49"
      },
      "source": [
        "#now creating the independent dataset(X)\n",
        "#convert the dataframe into numpy array\n",
        "#as we want only independent variables so we are dropping prediction as it was dependent\n",
        "X=np.array(dataframe.drop(['Prediction'],1))\n",
        "#remove the last 'n' row i.e. forcasting value\n",
        "X=X[:-forcasting]\n",
        "print(X)#this is a list of list"
      ],
      "execution_count": 25,
      "outputs": [
        {
          "output_type": "stream",
          "text": [
            "[[ 210.  ]\n",
            " [ 200.  ]\n",
            " [ 225.  ]\n",
            " ...\n",
            " [2663.7 ]\n",
            " [2677.1 ]\n",
            " [2659.55]]\n"
          ],
          "name": "stdout"
        }
      ]
    },
    {
      "cell_type": "code",
      "metadata": {
        "id": "nRKrFyujrEfD",
        "colab_type": "code",
        "colab": {
          "base_uri": "https://localhost:8080/",
          "height": 35
        },
        "outputId": "a9c9fa7d-4645-401e-dac7-cf5b734f8a37"
      },
      "source": [
        "#now creating the dependent variable dataset which also contains null values(i.e. nan's)\n",
        "Y=np.array(dataframe['Prediction'])\n",
        "#in y also i am getting all values except last values which is to be predicted\n",
        "Y=Y[:-forcasting]\n",
        "print(Y)#this is a list # i think here we have started training our data with previous values"
      ],
      "execution_count": 26,
      "outputs": [
        {
          "output_type": "stream",
          "text": [
            "[ 286.    285.    284.   ... 1660.15 1551.8  1594.2 ]\n"
          ],
          "name": "stdout"
        }
      ]
    },
    {
      "cell_type": "code",
      "metadata": {
        "id": "tYbAdOSZtSnw",
        "colab_type": "code",
        "colab": {}
      },
      "source": [
        "#now as usual we are putting 80% data to training and 20% to testing\n",
        "#reference here is sklearn documentation\n",
        "x_train,x_test,y_train,y_test=train_test_split(X,Y,test_size=0.2)\n"
      ],
      "execution_count": 0,
      "outputs": []
    },
    {
      "cell_type": "code",
      "metadata": {
        "id": "3j5NROdn0toJ",
        "colab_type": "code",
        "colab": {
          "base_uri": "https://localhost:8080/",
          "height": 52
        },
        "outputId": "b81fca67-22b7-480c-c0be-08f99bca9ba5"
      },
      "source": [
        "#as it is a regression type of problem so \n",
        "#we are using support vector machine(regressor) to train\n",
        "svr_rbf= SVR(kernel='rbf',C=1e3,gamma=0.1)\n",
        "svr_rbf.fit(x_train,y_train) "
      ],
      "execution_count": 28,
      "outputs": [
        {
          "output_type": "execute_result",
          "data": {
            "text/plain": [
              "SVR(C=1000.0, cache_size=200, coef0=0.0, degree=3, epsilon=0.1, gamma=0.1,\n",
              "    kernel='rbf', max_iter=-1, shrinking=True, tol=0.001, verbose=False)"
            ]
          },
          "metadata": {
            "tags": []
          },
          "execution_count": 28
        }
      ]
    },
    {
      "cell_type": "code",
      "metadata": {
        "id": "ouXLwxo72jCQ",
        "colab_type": "code",
        "colab": {
          "base_uri": "https://localhost:8080/",
          "height": 35
        },
        "outputId": "3e90561a-d370-4c1d-a25f-b2f1a9f81eb8"
      },
      "source": [
        "#testing our model\n",
        "#the best possible score our model can give is 1.0\n",
        "#score returns the coefficient of determination R^2 of the prediction\n",
        "svm_confidence=svr_rbf.score(x_test,y_test)\n",
        "print(\"your score is :\",svm_confidence)\n",
        "#if ur score is near .9 means it is a great model"
      ],
      "execution_count": 31,
      "outputs": [
        {
          "output_type": "stream",
          "text": [
            "your score is : 0.8950642593585351\n"
          ],
          "name": "stdout"
        }
      ]
    },
    {
      "cell_type": "code",
      "metadata": {
        "id": "B-gZWIE_4BoY",
        "colab_type": "code",
        "colab": {
          "base_uri": "https://localhost:8080/",
          "height": 35
        },
        "outputId": "5ac70d40-cfed-4229-d73e-b70227547348"
      },
      "source": [
        "#create and train the linear regression model\n",
        "classifierlinearregression  = LinearRegression()\n",
        "#training the model\n",
        "classifierlinearregression.fit(x_train,y_train)\n"
      ],
      "execution_count": 32,
      "outputs": [
        {
          "output_type": "execute_result",
          "data": {
            "text/plain": [
              "LinearRegression(copy_X=True, fit_intercept=True, n_jobs=None, normalize=False)"
            ]
          },
          "metadata": {
            "tags": []
          },
          "execution_count": 32
        }
      ]
    },
    {
      "cell_type": "code",
      "metadata": {
        "id": "07AUOdoe5SFz",
        "colab_type": "code",
        "colab": {
          "base_uri": "https://localhost:8080/",
          "height": 35
        },
        "outputId": "996668d7-cef6-42e1-a200-5db3e9f4c45d"
      },
      "source": [
        "clr_confidence=classifierlinearregression.score(x_test,y_test)\n",
        "print(\"your score is :\",clr_confidence)"
      ],
      "execution_count": 34,
      "outputs": [
        {
          "output_type": "stream",
          "text": [
            "your score is : 0.9218784466854787\n"
          ],
          "name": "stdout"
        }
      ]
    },
    {
      "cell_type": "markdown",
      "metadata": {
        "id": "fxX28-a-5x2d",
        "colab_type": "text"
      },
      "source": [
        "## ***It seems from here if we in this model linear regression is working more accurately.***"
      ]
    },
    {
      "cell_type": "code",
      "metadata": {
        "id": "Zl3WTWSJ6Kx_",
        "colab_type": "code",
        "colab": {
          "base_uri": "https://localhost:8080/",
          "height": 1000
        },
        "outputId": "b9b8d6f5-cf99-4781-8241-dc8ca1b1b6eb"
      },
      "source": [
        "#set x_forecast equal to the last 30 rows of the  original data set from Close column\n",
        "x_forecast=np.array(dataframe.drop(['Prediction'],1))[-forcasting:]\n",
        "print(x_forecast) "
      ],
      "execution_count": 36,
      "outputs": [
        {
          "output_type": "stream",
          "text": [
            "[[2646.1 ]\n",
            " [2593.15]\n",
            " [2588.55]\n",
            " [2590.7 ]\n",
            " [2542.85]\n",
            " [2501.9 ]\n",
            " [2468.45]\n",
            " [2469.8 ]\n",
            " [2442.2 ]\n",
            " [2440.15]\n",
            " [2486.2 ]\n",
            " [2495.15]\n",
            " [2521.6 ]\n",
            " [2467.8 ]\n",
            " [2431.95]\n",
            " [2405.8 ]\n",
            " [2420.95]\n",
            " [2439.55]\n",
            " [2396.6 ]\n",
            " [2362.4 ]\n",
            " [2383.2 ]\n",
            " [2330.4 ]\n",
            " [2296.9 ]\n",
            " [2334.1 ]\n",
            " [2336.75]\n",
            " [2308.2 ]\n",
            " [2302.95]\n",
            " [2311.6 ]\n",
            " [2361.55]\n",
            " [2390.25]\n",
            " [2419.6 ]\n",
            " [2433.45]\n",
            " [2440.8 ]\n",
            " [2443.15]\n",
            " [2478.8 ]\n",
            " [2443.85]\n",
            " [2432.35]\n",
            " [2429.25]\n",
            " [2433.6 ]\n",
            " [2368.5 ]\n",
            " [2349.35]\n",
            " [2318.45]\n",
            " [2355.95]\n",
            " [2362.4 ]\n",
            " [2366.1 ]\n",
            " [2408.8 ]\n",
            " [2475.3 ]\n",
            " [2433.25]\n",
            " [2452.3 ]\n",
            " [2416.7 ]\n",
            " [2400.6 ]\n",
            " [2397.75]\n",
            " [2430.3 ]\n",
            " [2468.9 ]\n",
            " [2454.6 ]\n",
            " [2468.25]\n",
            " [2485.85]\n",
            " [2482.15]\n",
            " [2501.9 ]\n",
            " [2449.75]\n",
            " [2380.25]\n",
            " [2462.3 ]\n",
            " [2374.95]\n",
            " [2411.9 ]\n",
            " [2442.15]\n",
            " [2385.05]\n",
            " [2397.15]\n",
            " [2422.85]\n",
            " [2409.  ]\n",
            " [2356.75]\n",
            " [2284.35]\n",
            " [2253.4 ]\n",
            " [2251.95]\n",
            " [2240.1 ]\n",
            " [2183.85]\n",
            " [2184.65]\n",
            " [2141.15]\n",
            " [2111.2 ]\n",
            " [2048.1 ]\n",
            " [1974.  ]\n",
            " [2054.8 ]\n",
            " [2047.05]\n",
            " [2064.15]\n",
            " [2037.55]\n",
            " [1957.25]\n",
            " [2037.15]\n",
            " [1904.5 ]\n",
            " [1888.6 ]\n",
            " [1784.05]\n",
            " [1839.15]\n",
            " [1681.25]\n",
            " [1706.35]\n",
            " [1817.5 ]\n",
            " [1616.35]\n",
            " [1626.85]\n",
            " [1670.15]\n",
            " [1805.3 ]\n",
            " [1660.15]\n",
            " [1551.8 ]\n",
            " [1594.2 ]]\n"
          ],
          "name": "stdout"
        }
      ]
    },
    {
      "cell_type": "code",
      "metadata": {
        "id": "xv5NSbvpBxU7",
        "colab_type": "code",
        "colab": {
          "base_uri": "https://localhost:8080/",
          "height": 55
        },
        "outputId": "66f8c420-c9d1-402a-c683-6d9138cc35a3"
      },
      "source": [
        "import itertools\n",
        "#list2d = [[1,2,3], [4,5,6], [7], [8,9]]\n",
        "merged = list(itertools.chain(*x_forecast))\n",
        "print(merged)\n",
        "#this is done for a simple list instead of list of list"
      ],
      "execution_count": 41,
      "outputs": [
        {
          "output_type": "stream",
          "text": [
            "[2646.1, 2593.15, 2588.55, 2590.7, 2542.85, 2501.9, 2468.45, 2469.8, 2442.2, 2440.15, 2486.2, 2495.15, 2521.6, 2467.8, 2431.95, 2405.8, 2420.95, 2439.55, 2396.6, 2362.4, 2383.2, 2330.4, 2296.9, 2334.1, 2336.75, 2308.2, 2302.95, 2311.6, 2361.55, 2390.25, 2419.6, 2433.45, 2440.8, 2443.15, 2478.8, 2443.85, 2432.35, 2429.25, 2433.6, 2368.5, 2349.35, 2318.45, 2355.95, 2362.4, 2366.1, 2408.8, 2475.3, 2433.25, 2452.3, 2416.7, 2400.6, 2397.75, 2430.3, 2468.9, 2454.6, 2468.25, 2485.85, 2482.15, 2501.9, 2449.75, 2380.25, 2462.3, 2374.95, 2411.9, 2442.15, 2385.05, 2397.15, 2422.85, 2409.0, 2356.75, 2284.35, 2253.4, 2251.95, 2240.1, 2183.85, 2184.65, 2141.15, 2111.2, 2048.1, 1974.0, 2054.8, 2047.05, 2064.15, 2037.55, 1957.25, 2037.15, 1904.5, 1888.6, 1784.05, 1839.15, 1681.25, 1706.35, 1817.5, 1616.35, 1626.85, 1670.15, 1805.3, 1660.15, 1551.8, 1594.2]\n"
          ],
          "name": "stdout"
        }
      ]
    },
    {
      "cell_type": "code",
      "metadata": {
        "id": "uN5fhaTx8zoD",
        "colab_type": "code",
        "colab": {
          "base_uri": "https://localhost:8080/",
          "height": 746
        },
        "outputId": "1ceb8a51-7fd6-4481-ff7e-dd4c26450cef"
      },
      "source": [
        "#now we want to compare the last x_forecast that is our original to the predicted value by model\n",
        "#printing the predicted values for the same \n",
        "#using linear regression \n",
        "lr_prediction =classifierlinearregression .predict(x_forecast)\n",
        "print(lr_prediction)\n",
        "print(\"\")\n",
        "#using support vector regressor\n",
        "svr_prediction =svr_rbf.predict(x_forecast)\n",
        "print(svr_prediction)\n"
      ],
      "execution_count": 39,
      "outputs": [
        {
          "output_type": "stream",
          "text": [
            "[2626.57655616 2575.79393595 2571.38222579 2573.44422075 2527.55284441\n",
            " 2488.27903331 2456.19822791 2457.49296894 2431.02270798 2429.05661975\n",
            " 2473.22167472 2481.80532819 2507.17266161 2455.57483408 2421.19226686\n",
            " 2396.11265366 2410.64252517 2428.4811793  2387.28923334 2354.48912737\n",
            " 2374.43772983 2323.79896974 2291.67021096 2327.34751921 2329.88904789\n",
            " 2302.50767288 2297.47256889 2305.76850212 2353.67392006 2381.19915519\n",
            " 2409.34778414 2422.630868   2429.68001358 2431.93382203 2466.12457577\n",
            " 2432.60516923 2421.57589383 2418.60278481 2422.77472811 2360.33943867\n",
            " 2341.97329746 2312.33811399 2348.30314247 2354.48912737 2358.03767685\n",
            " 2398.98985594 2462.76783978 2422.43905451 2440.70928898 2406.56648861\n",
            " 2391.12550305 2388.39216088 2419.6098056  2456.62980825 2442.91514406\n",
            " 2456.00641443 2472.88600112 2469.33745165 2488.27903331 2438.26366704\n",
            " 2371.60848093 2450.29996324 2366.52542357 2401.96296496 2430.9747546\n",
            " 2376.21200457 2387.81672043 2412.46475328 2399.18166943 2349.07039641\n",
            " 2279.63391476 2249.95077792 2248.56013016 2237.19518116 2183.24763844\n",
            " 2184.01489238 2142.29545934 2113.57138993 2053.05423534 1981.98733907\n",
            " 2059.4799871  2052.04721455 2068.44726753 2042.936074   1965.92295968\n",
            " 2042.55244703 1915.33215295 1900.08298088 1799.81248148 1852.65709666\n",
            " 1701.22035007 1725.29294247 1831.89328688 1638.97687412 1649.04708209\n",
            " 1690.57470164 1820.19266428 1680.98402738 1577.06907176 1617.73353063]\n",
            "\n",
            "[2731.48656962 2855.19155397 2898.71273779 3084.64105009 2845.85373268\n",
            " 2529.87937007 2515.95955072 2856.50080119 2525.64822107 2278.01526902\n",
            " 3136.61770874 2298.92618711 2754.72931477 2404.02730805 2879.33049686\n",
            " 2370.21458419 1993.37178125 2290.19440816 2714.65338078 2518.62659862\n",
            " 2433.26484549 2429.934645   1942.13072382 2066.52440237 1992.83841732\n",
            " 2842.73408764 2609.43778767 2395.54220588 2477.25138705 2488.74449184\n",
            " 1974.52093929 3020.25519474 2316.43534113 2695.3514068  2292.21882218\n",
            " 2797.9721061  2910.96741165 2806.29023529 3035.03470585 2572.70553703\n",
            " 2764.40916242 2040.86189002 2443.09679222 2518.62659862 2260.41251588\n",
            " 2334.28463723 2811.74474326 2999.80427319 3147.27671386 2182.91974282\n",
            " 2422.35815506 2703.19465376 2815.98899791 2620.10034622 3151.30561189\n",
            " 2476.07714791 3140.53463827 2873.71127919 2529.87937007 3092.07503889\n",
            " 2488.76123763 2314.93210499 2120.51167044 2404.0304261  2516.56688309\n",
            " 2541.71466697 2727.53264369 2171.91897926 2323.84895281 2435.56862119\n",
            " 2024.98173933 2371.34860379 2690.7512467  2132.13237915 2090.3743624\n",
            " 1934.97226193 1883.82422334 2000.78225942 1953.77263008 2041.93390234\n",
            " 1942.25772928 1905.78414808 2198.96574325 1930.4976652  1907.83813828\n",
            " 1970.31474571 1853.11408254 1795.72683711 1744.4712033  1770.76113474\n",
            " 2035.83146905 1980.85600942 1828.99641024 1913.76147353 1993.48812155\n",
            " 1801.97939052 1781.13533056 2102.79632466 2027.58679111 1934.44803889]\n"
          ],
          "name": "stdout"
        }
      ]
    }
  ]
}